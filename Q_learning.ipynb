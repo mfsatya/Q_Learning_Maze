{
 "cells": [
  {
   "cell_type": "code",
   "execution_count": 256,
   "metadata": {},
   "outputs": [],
   "source": [
    "import numpy as np\n",
    "import pandas as pd\n",
    "import seaborn as sns\n",
    "import matplotlib.pyplot as plt\n",
    "import random"
   ]
  },
  {
   "cell_type": "code",
   "execution_count": 257,
   "metadata": {},
   "outputs": [],
   "source": [
    "reward_matrix = np.genfromtxt('DataTugas3ML2019.txt', delimiter='\\t')\n",
    "reward_matrix = np.asarray(reward_matrix)\n",
    "q_table = pd.DataFrame(np.zeros((4, 225)))"
   ]
  },
  {
   "cell_type": "code",
   "execution_count": 314,
   "metadata": {},
   "outputs": [],
   "source": [
    "class q_learning:        \n",
    "    \n",
    "    actions = np.array(['N', 'S', 'W', 'E'])\n",
    "    list_reward = []  \n",
    "    list_step = [] \n",
    "    \n",
    "    def get_possible_actions(current_state, reward_matrix, possible_actions):\n",
    "\n",
    "        nrows, ncols = reward_matrix.shape\n",
    "        x, y = current_state    \n",
    "\n",
    "        if y==ncols-1 or reward_matrix[x, y+1]==0:\n",
    "            possible_actions = np.setdiff1d(possible_actions, 'E')\n",
    "        if y==0 or reward_matrix[x, y-1]==0:\n",
    "            possible_actions = np.setdiff1d(possible_actions, 'W')\n",
    "        if x==0 or reward_matrix[x-1, y]==0:\n",
    "            possible_actions = np.setdiff1d(possible_actions, 'N')\n",
    "        if x==nrows-1 or reward_matrix[x+1, y]==0:\n",
    "            possible_actions = np.setdiff1d(possible_actions, 'S')\n",
    "\n",
    "        return possible_actions\n",
    "    \n",
    "    def move(current_state, action):\n",
    "        next_state_x, next_state_y = current_state\n",
    "\n",
    "        if action=='N':\n",
    "            if next_state_x > 0:\n",
    "                next_state_x -=1\n",
    "        elif action=='S':\n",
    "            if next_state_x < 14:\n",
    "                next_state_x +=1\n",
    "        elif action=='W':\n",
    "            if next_state_y < 0:\n",
    "                next_state_y -=1\n",
    "        elif action=='E':\n",
    "            if next_state_y < 14:\n",
    "                next_state_y +=1\n",
    "        print(next_state_x, next_state_y)\n",
    "\n",
    "        return next_state_x, next_state_y\n",
    "    \n",
    "    def train(episode, reward_matrix, q, gamma = 0.7, alpha = 0.25):\n",
    "        for i in range(0, episode):\n",
    "            current_state = 14,0\n",
    "            reward = 0\n",
    "            step = []\n",
    "            while (reward_matrix[current_state] != 500):\n",
    "\n",
    "                new_state = current_state\n",
    "\n",
    "                directions = get_possible_actions(new_state, reward_matrix, actions)\n",
    "\n",
    "                x = random.choice(directions)\n",
    "                new_state = move(current_state, x)\n",
    "                step.append(x)\n",
    "\n",
    "                arah = np.where(actions == x)[0][0]\n",
    "                state = current_state[0]*15 + current_state[1]\n",
    "                next_state = new_state[0]*15 + new_state[1]\n",
    "\n",
    "                check_max = [q[next_state][0], q[next_state][1], q[next_state][2], q[next_state][3]]\n",
    "\n",
    "                q[state][arah] = q[state][arah] + alpha * (r[new_state] + (gamma * (max(check_max) - q[state][arah])))\n",
    "                reward = reward + r[new_state]\n",
    "\n",
    "                current_state = new_state \n",
    "\n",
    "            list_step.append(step)\n",
    "            list_reward.append(reward)\n",
    "    \n",
    "    def show(reward_matrix,q):\n",
    "        road = reward_matrix * 0\n",
    "        current_state = 14,0\n",
    "        reward = 0\n",
    "\n",
    "        road[current_state] = 1\n",
    "        step = []\n",
    "\n",
    "        while (reward_matrix[current_state] != 500): \n",
    "            possible_dir = []\n",
    "            state = current_state[0]*15 + current_state[1]\n",
    "\n",
    "            idx = [q[state][0], q[state][1], q[state][2], q[state][3]]\n",
    "            max_q = idx.index(max(idx))\n",
    "            \n",
    "\n",
    "            step.append(actions[max_q])\n",
    "\n",
    "            new_state = move(current_state, actions[max_q])\n",
    "\n",
    "            road[new_state] = 1\n",
    "\n",
    "            reward = reward + reward_matrix[new_state]\n",
    "            current_state = new_state\n",
    "        return reward, road, step"
   ]
  },
  {
   "cell_type": "code",
   "execution_count": 315,
   "metadata": {},
   "outputs": [],
   "source": [
    "q = q_learning"
   ]
  },
  {
   "cell_type": "code",
   "execution_count": 316,
   "metadata": {},
   "outputs": [],
   "source": [
    "q.train(500,reward_matrix,q_table)"
   ]
  },
  {
   "cell_type": "code",
   "execution_count": 318,
   "metadata": {},
   "outputs": [
    {
     "name": "stdout",
     "output_type": "stream",
     "text": [
      "Step :  ['E', 'E', 'N', 'E', 'E', 'E', 'E', 'E', 'E', 'E', 'E', 'N', 'E', 'E', 'N', 'E', 'N', 'E', 'N', 'N', 'N', 'N', 'N', 'N', 'N', 'N', 'N', 'N']\n",
      "Reward :  443.0\n"
     ]
    },
    {
     "data": {
      "image/png": "[encoded data removed]",
      "text/plain": [
       "<matplotlib.figure.Figure at 0x1a11d1b710>"
      ]
     },
     "metadata": {},
     "output_type": "display_data"
    }
   ],
   "source": [
    "reward, road, step = q.show(reward_matrix,q_table)\n",
    "plt.imshow(road)\n",
    "plt.show\n",
    "print(\"Step : \", step)\n",
    "print(\"Reward : \", reward)"
   ]
  },
  {
   "cell_type": "code",
   "execution_count": null,
   "metadata": {},
   "outputs": [],
   "source": []
  },
  {
   "cell_type": "code",
   "execution_count": null,
   "metadata": {},
   "outputs": [],
   "source": []
  },
  {
   "cell_type": "code",
   "execution_count": null,
   "metadata": {},
   "outputs": [],
   "source": []
  }
 ],
 "metadata": {
  "kernelspec": {
   "display_name": "Python 3",
   "language": "python",
   "name": "python3"
  },
  "language_info": {
   "codemirror_mode": {
    "name": "ipython",
    "version": 3
   },
   "file_extension": ".py",
   "mimetype": "text/x-python",
   "name": "python",
   "nbconvert_exporter": "python",
   "pygments_lexer": "ipython3",
   "version": "3.6.5"
  }
 },
 "nbformat": 4,
 "nbformat_minor": 2
}
